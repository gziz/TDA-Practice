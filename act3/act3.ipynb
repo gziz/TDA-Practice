{
  "cells": [
    {
      "cell_type": "code",
      "execution_count": 1,
      "metadata": {
        "id": "DVn1iXuseaAr"
      },
      "outputs": [],
      "source": [
        "from typing import List\n",
        "import matplotlib.pyplot as plt\n",
        "import numpy as np"
      ]
    },
    {
      "attachments": {},
      "cell_type": "markdown",
      "metadata": {
        "id": "bjttZJ8gfLLo"
      },
      "source": [
        "## Helper funcs"
      ]
    },
    {
      "cell_type": "code",
      "execution_count": 2,
      "metadata": {
        "id": "iAiKqU56eaAt"
      },
      "outputs": [],
      "source": [
        "def greater_or_equal(a, b):\n",
        "    return a >= b\n",
        "def greater(a, b):\n",
        "    return a > b\n",
        "def smaller(a, b):\n",
        "    return a < b\n",
        "def smaller_or_equal(a, b):\n",
        "    return a <= b\n",
        "\n",
        "interval_type_map = {\n",
        "    \"[]\": [greater_or_equal, smaller_or_equal],\n",
        "    \"(]\": [greater, smaller_or_equal],\n",
        "    \"()\": [greater, smaller],\n",
        "    \"[)\": [greater_or_equal, smaller]\n",
        "}"
      ]
    },
    {
      "cell_type": "code",
      "execution_count": 13,
      "metadata": {
        "id": "Dzq7vHwAeaAu"
      },
      "outputs": [],
      "source": [
        "def get_pre_img(f, domain: List, image_intervals: List):\n",
        "    \"\"\"\n",
        "    Encontrar la preimagen dado los intervalos de la imagen.\n",
        "    Para cada punto del dominio, si al aplicarle la función f, \n",
        "    el resultado se encuentra dentro de alguno de los intervalos de\n",
        "    la imagen, ese punto es preimagen.\n",
        "    Args:\n",
        "        f: Función que mapea de Dominio -> Imagen\n",
        "        domain: Los puntos del dominio\n",
        "        image_intervals: Los intervalos de la imagen\n",
        "    \"\"\"\n",
        "    preimage = []\n",
        "    for domain_point in domain:\n",
        "        for image_interval in image_intervals:\n",
        "\n",
        "            lim_inf, lim_sup, interval_type = image_interval\n",
        "\n",
        "            func_lim_inf, func_lim_sup = interval_type_map[interval_type]\n",
        "\n",
        "            # Probar si f(domain_point) esta en algun intervalo de image_interval\n",
        "            if func_lim_inf(f(domain_point), lim_inf) \\\n",
        "            and func_lim_sup(f(domain_point), lim_sup):\n",
        "                preimage.append(domain_point)\n",
        "                break\n",
        "                \n",
        "    return preimage\n",
        "\n",
        "def is_open_cover(f, domain, image_intervals):\n",
        "    \"\"\"\n",
        "    Probar si la imagen es cubierta del dominio.\n",
        "    El numero de elementos de la pre_imagen debe ser el mismo que del dominio.\n",
        "    i.e. Todo dominio pudo ser mappeado a un punto dentro de la imagen.\n",
        "    Args:\n",
        "        f: Función que mapea de Dominio -> Imagen\n",
        "        domain: Los puntos del dominio\n",
        "        image_intervals: Los intervalos de la imagen\n",
        "    \"\"\"\n",
        "    pre_img = get_pre_img(f, domain, image_intervals)\n",
        "\n",
        "    return len(pre_img) == len(domain)"
      ]
    },
    {
      "attachments": {},
      "cell_type": "markdown",
      "metadata": {
        "id": "wvsUnQnjeaAu"
      },
      "source": [
        "## Ejercicio 5"
      ]
    },
    {
      "cell_type": "markdown",
      "metadata": {
        "id": "j1M8jJ_yehfm"
      },
      "source": [
        "Definir el dominio"
      ]
    },
    {
      "cell_type": "code",
      "execution_count": 4,
      "metadata": {
        "id": "ekd74dWneaAv"
      },
      "outputs": [],
      "source": [
        "theta = np.linspace(0, 2*np.pi, 1000)\n",
        "radius = np.sqrt(5)\n",
        "\n",
        "domain = [(radius * np.cos(t), radius * np.sin(t)) for t in theta]"
      ]
    },
    {
      "cell_type": "markdown",
      "metadata": {
        "id": "p4Z1wPE1ekE9"
      },
      "source": [
        "Graficando el dominio"
      ]
    },
    {
      "cell_type": "code",
      "execution_count": 5,
      "metadata": {
        "colab": {
          "base_uri": "https://localhost:8080/",
          "height": 462
        },
        "id": "449pcNyjeaAv",
        "outputId": "ff5613af-9a41-4232-8d3c-6c11a461c0dc"
      },
      "outputs": [
        {
          "data": {
            "text/plain": [
              "<matplotlib.collections.PathCollection at 0x7eff8dc78f40>"
            ]
          },
          "execution_count": 5,
          "metadata": {},
          "output_type": "execute_result"
        },
        {
          "data": {
            "image/png": "[encoded data removed]",
            "text/plain": [
              "<Figure size 500x500 with 1 Axes>"
            ]
          },
          "metadata": {},
          "output_type": "display_data"
        }
      ],
      "source": [
        "plt.figure(figsize=(5,5))\n",
        "plt.xlim([-5, 5])\n",
        "plt.ylim([-5, 5])\n",
        "plt.grid()\n",
        "\n",
        "\n",
        "x = [pt[0] for pt in domain]\n",
        "y = [pt[1] for pt in domain]\n",
        "plt.scatter(x,y, marker=1)"
      ]
    },
    {
      "cell_type": "markdown",
      "metadata": {
        "id": "-t_bBvlJemhe"
      },
      "source": [
        "Definir los intervalos de imagen"
      ]
    },
    {
      "cell_type": "code",
      "execution_count": 6,
      "metadata": {
        "id": "qPtrOqXNeaAw"
      },
      "outputs": [],
      "source": [
        "# f: D -> I\n",
        "def f(point):\n",
        "    x, y = point\n",
        "    return x\n",
        "\n",
        "image_intervals = [[-1, -0.5, \"[)\"], [-0.6, 0.2, \"()\"], [-0.2, 0.6, \"()\"], [0.6, 1, \"(]\"]]\n",
        "pre_image = get_pre_img(f, domain, image_intervals)"
      ]
    },
    {
      "cell_type": "markdown",
      "metadata": {
        "id": "aC1l3unhepfB"
      },
      "source": [
        "Probar si es cubierta abierta"
      ]
    },
    {
      "cell_type": "code",
      "execution_count": 7,
      "metadata": {
        "colab": {
          "base_uri": "https://localhost:8080/"
        },
        "id": "eX_XEj8jeaAw",
        "outputId": "ad5f83a3-c10d-4aa1-9eb1-ac7a8d44ec2f"
      },
      "outputs": [
        {
          "data": {
            "text/plain": [
              "False"
            ]
          },
          "execution_count": 7,
          "metadata": {},
          "output_type": "execute_result"
        }
      ],
      "source": [
        "is_open_cover(f, domain, image_intervals)"
      ]
    },
    {
      "cell_type": "markdown",
      "metadata": {
        "id": "ysG2WaB9er-r"
      },
      "source": [
        "Graficando la preimagen de los intervalos dados por `\n",
        "image_intervals`"
      ]
    },
    {
      "cell_type": "code",
      "execution_count": 8,
      "metadata": {
        "colab": {
          "base_uri": "https://localhost:8080/",
          "height": 445
        },
        "id": "kmJpk630eaAw",
        "outputId": "f216f81d-8aa7-4562-ace9-0cfb237a28bc"
      },
      "outputs": [
        {
          "data": {
            "image/png": "[encoded data removed]",
            "text/plain": [
              "<Figure size 500x500 with 1 Axes>"
            ]
          },
          "metadata": {},
          "output_type": "display_data"
        }
      ],
      "source": [
        "plt.figure(figsize=(5,5))\n",
        "plt.xlim([-5, 5])\n",
        "plt.ylim([-5, 5])\n",
        "plt.grid()\n",
        "\n",
        "x = [pt[0] for pt in pre_image]\n",
        "y = [pt[1] for pt in pre_image]\n",
        "plt.scatter(x,y, marker=1);"
      ]
    },
    {
      "attachments": {},
      "cell_type": "markdown",
      "metadata": {
        "id": "yIy7KAkeeaAx"
      },
      "source": [
        "## Ejercicio 6"
      ]
    },
    {
      "cell_type": "markdown",
      "metadata": {
        "id": "EpfL51E0e2r0"
      },
      "source": [
        "Definir el dominio"
      ]
    },
    {
      "cell_type": "code",
      "execution_count": 9,
      "metadata": {
        "id": "S4Y5x9XBeaAx"
      },
      "outputs": [],
      "source": [
        "theta = np.linspace(0, 2*np.pi, 1000)\n",
        "radius = np.sqrt(5)\n",
        "\n",
        "domain = [(radius * np.cos(t), radius * np.sin(t)) for t in theta]\n",
        "\n",
        "x = [pt[0] for pt in domain]\n",
        "y = [pt[1] for pt in domain]"
      ]
    },
    {
      "cell_type": "markdown",
      "metadata": {
        "id": "nirqwJ0me4LZ"
      },
      "source": [
        "Definir los intervalos de imagen"
      ]
    },
    {
      "cell_type": "code",
      "execution_count": 10,
      "metadata": {
        "id": "tXpSmm2zeaAx"
      },
      "outputs": [],
      "source": [
        "# f: D -> I\n",
        "def g(point):\n",
        "    x, y = point\n",
        "    return 3 * np.power(x, 2) + 2 * y\n",
        "\n",
        "min_g = min(map(g, domain))\n",
        "max_g = max(map(g, domain))\n",
        "\n",
        "image_intervals = [[min_g, 0, \"[)\"], [-1, -1, \"()\"], [0, max_g, \"(]\"]]\n",
        "\n",
        "pre_image = get_pre_img(f, domain, image_intervals)"
      ]
    },
    {
      "cell_type": "markdown",
      "metadata": {
        "id": "OCiQKefEfA3b"
      },
      "source": [
        "Probar si es cubierta abierta"
      ]
    },
    {
      "cell_type": "code",
      "execution_count": 11,
      "metadata": {
        "colab": {
          "base_uri": "https://localhost:8080/"
        },
        "id": "40lAn5l9fALu",
        "outputId": "e7206b77-2b9e-46cc-cf73-9083ab491dbd"
      },
      "outputs": [
        {
          "data": {
            "text/plain": [
              "True"
            ]
          },
          "execution_count": 11,
          "metadata": {},
          "output_type": "execute_result"
        }
      ],
      "source": [
        "is_open_cover(f, domain, image_intervals)"
      ]
    },
    {
      "cell_type": "markdown",
      "metadata": {
        "id": "kfcqs1HJiSDF"
      },
      "source": [
        "Graficando la preimagen de los intervalos dados por `\n",
        "image_intervals`"
      ]
    },
    {
      "cell_type": "code",
      "execution_count": 12,
      "metadata": {
        "colab": {
          "base_uri": "https://localhost:8080/",
          "height": 445
        },
        "id": "smrjNap0eaAx",
        "outputId": "37287b7f-503c-44af-d5c5-679473a9d9fd"
      },
      "outputs": [
        {
          "data": {
            "image/png": "[encoded data removed]",
            "text/plain": [
              "<Figure size 500x500 with 1 Axes>"
            ]
          },
          "metadata": {},
          "output_type": "display_data"
        }
      ],
      "source": [
        "plt.figure(figsize=(5,5))\n",
        "plt.xlim([-5, 5])\n",
        "plt.ylim([-5, 5])\n",
        "plt.grid()\n",
        "\n",
        "x = [pt[0] for pt in pre_image]\n",
        "y = [pt[1] for pt in pre_image]\n",
        "plt.scatter(x,y, marker=1);"
      ]
    },
    {
      "cell_type": "code",
      "execution_count": 12,
      "metadata": {
        "id": "5ZPV_s_hfoYx"
      },
      "outputs": [],
      "source": []
    }
  ],
  "metadata": {
    "colab": {
      "provenance": []
    },
    "kernelspec": {
      "display_name": "base",
      "language": "python",
      "name": "python3"
    },
    "language_info": {
      "codemirror_mode": {
        "name": "ipython",
        "version": 3
      },
      "file_extension": ".py",
      "mimetype": "text/x-python",
      "name": "python",
      "nbconvert_exporter": "python",
      "pygments_lexer": "ipython3",
      "version": "3.9.12"
    },
    "orig_nbformat": 4,
    "vscode": {
      "interpreter": {
        "hash": "f46b6a3901a6867c6a60d50eb7722dd0c494d075c29d3d62646a1899a3e8cd37"
      }
    }
  },
  "nbformat": 4,
  "nbformat_minor": 0
}
